{
 "cells": [
  {
   "cell_type": "code",
   "execution_count": 25,
   "metadata": {},
   "outputs": [],
   "source": [
    "import numpy as np\n",
    "from math import log"
   ]
  },
  {
   "cell_type": "code",
   "execution_count": 15,
   "metadata": {},
   "outputs": [],
   "source": [
    "def entropy(pi):\n",
    "    '''\n",
    "        entropy(p) = − SUM (Pi * log(Pi))\n",
    "    '''\n",
    "    ShannonEntropy = 0\n",
    "    for p in pi:\n",
    "        p = p/ sum(pi)\n",
    "        if p != 0:\n",
    "            ShannonEntropy += p * log(p, 2)\n",
    "    ShannonEntropy *= -1\n",
    "    return ShannonEntropy"
   ]
  },
  {
   "cell_type": "code",
   "execution_count": 42,
   "metadata": {},
   "outputs": [],
   "source": [
    "def gain(d, a):\n",
    "    '''\n",
    "        return the information gain:\n",
    "        gain(D, A) = entropy(D) − SUM ( |Di| / |D| * entropy(Di) )\n",
    "    '''\n",
    "    print(\"========================================\")\n",
    "    total = 0\n",
    "    for di in a:\n",
    "        print(di, round(entropy(di), 3))\n",
    "        total += sum(di) / sum(d) * entropy(di)\n",
    "\n",
    "    print()\n",
    "    gain = entropy(d)\n",
    "\n",
    "    print(\"Info(D) = \", round(gain, 3))\n",
    "    print(\"Info(a) = \", round(total, 3))\n",
    "    gain -= total\n",
    "    print(\"Gain(a) = \", round(gain, 3))\n",
    "#     gain = entropy(d) - total\n",
    "    print(\"========================================\")\n",
    "    return gain\n"
   ]
  },
  {
   "cell_type": "code",
   "execution_count": 4,
   "metadata": {},
   "outputs": [],
   "source": [
    "d = [9, 5]  # yes, no\n",
    "age = [\n",
    "    [3, 2],\n",
    "    [4, 0],\n",
    "    [3, 2]\n",
    "]\n",
    "income = [\n",
    "    [2, 2],\n",
    "    [4, 2],\n",
    "    [3, 1]\n",
    "]"
   ]
  },
  {
   "cell_type": "code",
   "execution_count": 18,
   "metadata": {
    "scrolled": true
   },
   "outputs": [
    {
     "name": "stdout",
     "output_type": "stream",
     "text": [
      "========================================\n",
      "[3, 2] 0.971\n",
      "[4, 0] -0.0\n",
      "[3, 2] 0.971\n",
      "\n",
      "Info(D) =  0.94\n",
      "Info(a) =  0.694\n",
      "Gain(a) =  0.247\n",
      "========================================\n",
      "========================================\n",
      "[2, 2] 1.0\n",
      "[4, 2] 0.918\n",
      "[3, 1] 0.811\n",
      "\n",
      "Info(D) =  0.94\n",
      "Info(a) =  0.911\n",
      "Gain(a) =  0.029\n",
      "========================================\n"
     ]
    }
   ],
   "source": [
    "gain(d, age)\n",
    "gain(d, income)"
   ]
  },
  {
   "cell_type": "code",
   "execution_count": 38,
   "metadata": {},
   "outputs": [],
   "source": [
    "def splitInfo(d, a):\n",
    "    '''\n",
    "        return the information gain:\n",
    "        split(D, A) = − SUM ( |Di| / |D| * log2( |Di| / |D| ) )\n",
    "    '''\n",
    "    total = 0\n",
    "    for di in a:\n",
    "        temp = sum(di)/sum(d)\n",
    "        total += temp * log(temp, 2)\n",
    "#         print(temp * log(temp, 2), temp)\n",
    "    total *= -1\n",
    "    \n",
    "    return total\n"
   ]
  },
  {
   "cell_type": "code",
   "execution_count": 39,
   "metadata": {},
   "outputs": [
    {
     "data": {
      "text/plain": [
       "1.5566567074628228"
      ]
     },
     "execution_count": 39,
     "metadata": {},
     "output_type": "execute_result"
    }
   ],
   "source": [
    "splitInfo(d, income)"
   ]
  },
  {
   "cell_type": "code",
   "execution_count": 50,
   "metadata": {},
   "outputs": [],
   "source": [
    "def gain_ratio(d, a):\n",
    "    print(\"========================================\")\n",
    "    print(\"splitInfo = \", round(splitInfo(d, a), 3))\n",
    "    print(\"========================================\")\n",
    "    \n",
    "    gr = gain(d, a)/splitInfo(d, a)\n",
    "    return round(gr, 3)"
   ]
  },
  {
   "cell_type": "code",
   "execution_count": 51,
   "metadata": {},
   "outputs": [
    {
     "name": "stdout",
     "output_type": "stream",
     "text": [
      "========================================\n",
      "splitInfo =  1.577\n",
      "========================================\n",
      "========================================\n",
      "[3, 2] 0.971\n",
      "[4, 0] -0.0\n",
      "[3, 2] 0.971\n",
      "\n",
      "Info(D) =  0.94\n",
      "Info(a) =  0.694\n",
      "Gain(a) =  0.247\n",
      "========================================\n",
      "0.156\n",
      "========================================\n",
      "splitInfo =  1.557\n",
      "========================================\n",
      "========================================\n",
      "[2, 2] 1.0\n",
      "[4, 2] 0.918\n",
      "[3, 1] 0.811\n",
      "\n",
      "Info(D) =  0.94\n",
      "Info(a) =  0.911\n",
      "Gain(a) =  0.029\n",
      "========================================\n",
      "0.019\n"
     ]
    }
   ],
   "source": [
    "print(gain_ratio(d, age))\n",
    "print(gain_ratio(d, income))\n"
   ]
  },
  {
   "cell_type": "code",
   "execution_count": null,
   "metadata": {},
   "outputs": [],
   "source": []
  },
  {
   "cell_type": "code",
   "execution_count": 8,
   "metadata": {},
   "outputs": [],
   "source": [
    "def gini(pi):\n",
    "    '''\n",
    "        gini(p) = 1 − SUM (Pi * Pi)\n",
    "    '''\n",
    "    gn = 1\n",
    "    for p in pi:\n",
    "        p = p/ sum(pi)\n",
    "        if p != 0:\n",
    "            gn -= p*p\n",
    "    return round(gn, 3)"
   ]
  },
  {
   "cell_type": "code",
   "execution_count": 9,
   "metadata": {},
   "outputs": [
    {
     "data": {
      "text/plain": [
       "0.459"
      ]
     },
     "execution_count": 9,
     "metadata": {},
     "output_type": "execute_result"
    }
   ],
   "source": [
    "gini(d)"
   ]
  },
  {
   "cell_type": "code",
   "execution_count": 19,
   "metadata": {},
   "outputs": [],
   "source": [
    "def gini_idx(d, a):\n",
    "    '''\n",
    "        gini_idx(D, A) = SUM ( (|Di| / |D|) * gini(Di) )\n",
    "    '''\n",
    "    total = 0\n",
    "    for di in a:\n",
    "        temp = sum(di)/sum(d)\n",
    "        total += temp * gini(di)\n",
    "        print(di, gini(di))\n",
    "    return round(total, 3)\n",
    "\n",
    "    "
   ]
  },
  {
   "cell_type": "code",
   "execution_count": 22,
   "metadata": {},
   "outputs": [],
   "source": [
    "giniInc_easyMed_high = [\n",
    "    [6, 4],\n",
    "    [1, 3]\n",
    "]"
   ]
  },
  {
   "cell_type": "code",
   "execution_count": 23,
   "metadata": {},
   "outputs": [
    {
     "name": "stdout",
     "output_type": "stream",
     "text": [
      "[6, 4] 0.48\n",
      "[1, 3] 0.375\n"
     ]
    },
    {
     "data": {
      "text/plain": [
       "0.45"
      ]
     },
     "execution_count": 23,
     "metadata": {},
     "output_type": "execute_result"
    }
   ],
   "source": [
    "gini_idx(d, giniInc_easyMed_high)"
   ]
  },
  {
   "cell_type": "code",
   "execution_count": null,
   "metadata": {},
   "outputs": [],
   "source": []
  }
 ],
 "metadata": {
  "kernelspec": {
   "display_name": "Python 3",
   "language": "python",
   "name": "python3"
  },
  "language_info": {
   "codemirror_mode": {
    "name": "ipython",
    "version": 3
   },
   "file_extension": ".py",
   "mimetype": "text/x-python",
   "name": "python",
   "nbconvert_exporter": "python",
   "pygments_lexer": "ipython3",
   "version": "3.7.4"
  }
 },
 "nbformat": 4,
 "nbformat_minor": 2
}
