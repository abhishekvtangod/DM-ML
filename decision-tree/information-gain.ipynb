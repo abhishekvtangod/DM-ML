{
 "cells": [
  {
   "cell_type": "code",
   "execution_count": 6,
   "metadata": {},
   "outputs": [],
   "source": [
    "from __future__ import division\n",
    "\n",
    "import numpy as np\n",
    "from math import log"
   ]
  },
  {
   "cell_type": "code",
   "execution_count": 8,
   "metadata": {},
   "outputs": [],
   "source": [
    "def entropy(pi):\n",
    "    '''\n",
    "        entropy(p) = − SUM (Pi * log(Pi))\n",
    "    '''\n",
    "    ShannonEntropy = 0\n",
    "    for p in pi:\n",
    "        p = p/ sum(pi)\n",
    "        if p != 0:\n",
    "            ShannonEntropy += p * log(p, 2)\n",
    "    ShannonEntropy *= -1\n",
    "    return ShannonEntropy"
   ]
  },
  {
   "cell_type": "code",
   "execution_count": 34,
   "metadata": {},
   "outputs": [],
   "source": [
    "def gain(d, a):\n",
    "    '''\n",
    "        return the information gain:\n",
    "        gain(D, A) = entropy(D) − SUM ( |Di| / |D| * entropy(Di) )\n",
    "    '''\n",
    "    print(\"========================================\")\n",
    "    total = 0\n",
    "    for di in a:\n",
    "        print(di, entropy(di))\n",
    "        total += sum(di) / sum(d) * entropy(di)\n",
    "\n",
    "    print()\n",
    "    gain = entropy(d)\n",
    "    print(\"Info(D) = \", gain, 3)\n",
    "    print(\"Info(a) = \", total)\n",
    "    gain -= total\n",
    "    print(\"Gain(a) = \", gain)\n",
    "#     gain = entropy(d) - total\n",
    "    print(\"========================================\")\n",
    "#     return gain\n"
   ]
  },
  {
   "cell_type": "code",
   "execution_count": 35,
   "metadata": {},
   "outputs": [],
   "source": [
    "d = [9, 5]  # yes, no\n",
    "age = [\n",
    "    [3, 2],\n",
    "    [4, 0],\n",
    "    [3, 2]\n",
    "]\n",
    "income = [\n",
    "    [2, 2],\n",
    "    [4, 2],\n",
    "    [3, 1]\n",
    "]\n",
    "student = [\n",
    "    \n",
    "    \n",
    "]\n",
    "\n",
    "credit_rating = [\n",
    "    \n",
    "]"
   ]
  },
  {
   "cell_type": "code",
   "execution_count": 37,
   "metadata": {},
   "outputs": [
    {
     "name": "stdout",
     "output_type": "stream",
     "text": [
      "========================================\n",
      "[3, 2] 0.9709505944546686\n",
      "[4, 0] -0.0\n",
      "[3, 2] 0.9709505944546686\n",
      "\n",
      "Info(D) =  0.9402859586706309 3\n",
      "Info(a) =  0.6935361388961918\n",
      "Gain(a) =  0.2467498197744391\n",
      "========================================\n",
      "========================================\n",
      "[2, 2] 1.0\n",
      "[4, 2] 0.9182958340544896\n",
      "[3, 1] 0.8112781244591328\n",
      "\n",
      "Info(D) =  0.9402859586706309 3\n",
      "Info(a) =  0.9110633930116763\n",
      "Gain(a) =  0.029222565658954647\n",
      "========================================\n"
     ]
    }
   ],
   "source": [
    "gain(d, age)\n",
    "gain(d, income)"
   ]
  },
  {
   "cell_type": "code",
   "execution_count": null,
   "metadata": {},
   "outputs": [],
   "source": []
  }
 ],
 "metadata": {
  "kernelspec": {
   "display_name": "Python 3",
   "language": "python",
   "name": "python3"
  },
  "language_info": {
   "codemirror_mode": {
    "name": "ipython",
    "version": 3
   },
   "file_extension": ".py",
   "mimetype": "text/x-python",
   "name": "python",
   "nbconvert_exporter": "python",
   "pygments_lexer": "ipython3",
   "version": "3.7.4"
  }
 },
 "nbformat": 4,
 "nbformat_minor": 2
}
