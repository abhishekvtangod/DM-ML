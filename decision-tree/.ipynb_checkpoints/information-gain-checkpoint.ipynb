{
 "cells": [
  {
   "cell_type": "code",
   "execution_count": 6,
   "metadata": {},
   "outputs": [],
   "source": [
    "from __future__ import division\n",
    "\n",
    "import numpy as np\n",
    "from math import log"
   ]
  },
  {
   "cell_type": "code",
   "execution_count": 8,
   "metadata": {},
   "outputs": [],
   "source": [
    "def entropy(pi):\n",
    "    '''\n",
    "        entropy(p) = − SUM (Pi * log(Pi))\n",
    "    '''\n",
    "    ShannonEntropy = 0\n",
    "    for p in pi:\n",
    "        p = p/ sum(pi)\n",
    "        if p != 0:\n",
    "            ShannonEntropy += p * log(p, 2)\n",
    "    ShannonEntropy *= -1\n",
    "    return ShannonEntropy"
   ]
  },
  {
   "cell_type": "code",
   "execution_count": 12,
   "metadata": {},
   "outputs": [],
   "source": [
    "def gain(d, a):\n",
    "    '''\n",
    "        return the information gain:\n",
    "        gain(D, A) = entropy(D) − SUM ( |Di| / |D| * entropy(Di) )\n",
    "    '''\n",
    "\n",
    "    total = 0\n",
    "    for di in a:\n",
    "        total += sum(di) / sum(d) * entropy(di)\n",
    "        \n",
    "    gain = entropy(d)\n",
    "    print(\"Info(D) = \", gain)\n",
    "    print(\"Info(a) = \", total)\n",
    "    gain -= total\n",
    "#     gain = entropy(d) - total\n",
    "    return gain\n"
   ]
  },
  {
   "cell_type": "code",
   "execution_count": 13,
   "metadata": {},
   "outputs": [],
   "source": [
    "d = [9, 5]\n",
    "a = [\n",
    "    [3, 2],\n",
    "    [4, 0],\n",
    "    [3, 2]\n",
    "]"
   ]
  },
  {
   "cell_type": "code",
   "execution_count": 14,
   "metadata": {},
   "outputs": [
    {
     "name": "stdout",
     "output_type": "stream",
     "text": [
      "Info(D) =  0.9402859586706309\n",
      "Info(a) =  0.6935361388961918\n",
      "0.2467498197744391\n"
     ]
    }
   ],
   "source": [
    "print(gain(d, a))"
   ]
  },
  {
   "cell_type": "code",
   "execution_count": null,
   "metadata": {},
   "outputs": [],
   "source": []
  }
 ],
 "metadata": {
  "kernelspec": {
   "display_name": "Python 3",
   "language": "python",
   "name": "python3"
  },
  "language_info": {
   "codemirror_mode": {
    "name": "ipython",
    "version": 3
   },
   "file_extension": ".py",
   "mimetype": "text/x-python",
   "name": "python",
   "nbconvert_exporter": "python",
   "pygments_lexer": "ipython3",
   "version": "3.7.4"
  }
 },
 "nbformat": 4,
 "nbformat_minor": 2
}
