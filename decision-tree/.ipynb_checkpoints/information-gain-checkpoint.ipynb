{
 "cells": [
  {
   "cell_type": "code",
   "execution_count": 25,
   "metadata": {},
   "outputs": [],
   "source": [
    "from __future__ import division\n",
    "\n",
    "\n",
    "import numpy as np\n",
    "from math import log\n"
   ]
  },
  {
   "cell_type": "code",
   "execution_count": 26,
   "metadata": {},
   "outputs": [],
   "source": [
    "def entropy(pi):\n",
    "    '''\n",
    "        entropy(p) = − SUM (Pi * log(Pi))\n",
    "    '''\n",
    "    ShannonEntropy = 0\n",
    "    for p in pi:\n",
    "        p = p/ sum(pi)\n",
    "        if p != 0:\n",
    "            ShannonEntropy += p * log(p, 2)\n",
    "    ShannonEntropy *= -1\n",
    "    return ShannonEntropy"
   ]
  },
  {
   "cell_type": "code",
   "execution_count": 27,
   "metadata": {},
   "outputs": [
    {
     "name": "stdout",
     "output_type": "stream",
     "text": [
      "-0.0\n"
     ]
    }
   ],
   "source": [
    "A = [9, 0]\n",
    "print(entropy(A))"
   ]
  },
  {
   "cell_type": "code",
   "execution_count": 29,
   "metadata": {},
   "outputs": [],
   "source": [
    "def gain(d, a):\n",
    "    '''\n",
    "    return the information gain:\n",
    "    gain(D, A) = entropy(D) − SUM ( |Di| / |D| * entropy(Di) )\n",
    "    '''\n",
    "\n",
    "    ID = 0\n",
    "    for di in a:\n",
    "        IDi = sum(di) / sum(d) * entropy(di)\n",
    "        ID += IDi\n",
    "\n",
    "    gain = entropy(d) - ID\n",
    "    return gain\n"
   ]
  },
  {
   "cell_type": "code",
   "execution_count": null,
   "metadata": {},
   "outputs": [],
   "source": []
  },
  {
   "cell_type": "code",
   "execution_count": null,
   "metadata": {},
   "outputs": [],
   "source": []
  },
  {
   "cell_type": "code",
   "execution_count": null,
   "metadata": {},
   "outputs": [],
   "source": [
    "def Info(A):\n",
    "    '''\n",
    "    return \n",
    "    '''\n",
    "    i = np.array"
   ]
  }
 ],
 "metadata": {
  "kernelspec": {
   "display_name": "Python 3",
   "language": "python",
   "name": "python3"
  },
  "language_info": {
   "codemirror_mode": {
    "name": "ipython",
    "version": 3
   },
   "file_extension": ".py",
   "mimetype": "text/x-python",
   "name": "python",
   "nbconvert_exporter": "python",
   "pygments_lexer": "ipython3",
   "version": "3.7.4"
  }
 },
 "nbformat": 4,
 "nbformat_minor": 2
}
